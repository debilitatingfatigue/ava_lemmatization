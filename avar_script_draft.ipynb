{
 "cells": [
  {
   "cell_type": "markdown",
   "id": "487cfb97",
   "metadata": {},
   "source": [
    "# Lemmatization"
   ]
  },
  {
   "cell_type": "code",
   "execution_count": 2,
   "id": "0660ea4f",
   "metadata": {},
   "outputs": [],
   "source": [
    "from nltk.tokenize import RegexpTokenizer\n",
    "import pandas as pd\n",
    "import os"
   ]
  },
  {
   "cell_type": "code",
   "execution_count": 4,
   "id": "bb9649d8",
   "metadata": {},
   "outputs": [
    {
     "name": "stdout",
     "output_type": "stream",
     "text": [
      "1928 соналъ авар хъвай-хъвагӀи кириллицаялде бачаралдаса нахъе бугеб авар мацӀалъул хӀарпазул тартиб. Авар алипбаялда буго 45 хӀарп[2] (школабазда малъулеб грамматикаялда рекъон 46) гъорлӀе рачун гьечӀо гӀезегӀанго полиграфал, жал гӀатӀидго хӀалтӀизарулел.\n",
      "['1928', 'соналъ', 'авар', 'хъвай', 'хъвагӏи', 'кириллицаялде', 'бачаралдаса', 'нахъе', 'бугеб', 'авар', 'мацӏалъул', 'хӏарпазул', 'тартиб', 'авар', 'алипбаялда', 'буго', '45', 'хӏарп', '2', 'школабазда', 'малъулеб', 'грамматикаялда', 'рекъон', '46', 'гъорлӏе', 'рачун', 'гьечӏо', 'гӏезегӏанго', 'полиграфал', 'жал', 'гӏатӏидго', 'хӏалтӏизарулел']\n"
     ]
    }
   ],
   "source": [
    "tokenizer = RegexpTokenizer(r'\\w+')\n",
    "text = tokenizer.tokenize(input().lower())\n",
    "print(text)"
   ]
  },
  {
   "cell_type": "code",
   "execution_count": null,
   "id": "3b06231d",
   "metadata": {},
   "outputs": [],
   "source": [
    "df = pd.DataFrame(columns = [\"wordform\", \"lemma\"])\n",
    "\n",
    "for word in text:\n",
    "    cmd = \"echo {} | hfst-lookup ava.analyzer.hfst\".format(word)\n",
    "    os.system(cmd)\n",
    "    # здесь дальше парсить ответ консоли и записывать все в датафрейм\n",
    "#    word, lemma = res.split('\\t')\n",
    "#    df.loc[len(df.index)] = [word, lemma]\n",
    "    # добавить случаи, когда разборов больше одного\n",
    "    # добавить какой-нибудь плейсхолдер для цифр"
   ]
  },
  {
   "cell_type": "code",
   "execution_count": null,
   "id": "a5df464b",
   "metadata": {},
   "outputs": [],
   "source": [
    "df.to_csv(\"Lemmatization.csv\", encoding=\"utf-8\", index=False)"
   ]
  }
 ],
 "metadata": {
  "kernelspec": {
   "display_name": "Python 3 (ipykernel)",
   "language": "python",
   "name": "python3"
  },
  "language_info": {
   "codemirror_mode": {
    "name": "ipython",
    "version": 3
   },
   "file_extension": ".py",
   "mimetype": "text/x-python",
   "name": "python",
   "nbconvert_exporter": "python",
   "pygments_lexer": "ipython3",
   "version": "3.9.13"
  }
 },
 "nbformat": 4,
 "nbformat_minor": 5
}
